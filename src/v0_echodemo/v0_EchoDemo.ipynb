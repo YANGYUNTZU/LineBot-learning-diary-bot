{
  "nbformat": 4,
  "nbformat_minor": 0,
  "metadata": {
    "colab": {
      "provenance": []
    },
    "kernelspec": {
      "name": "python3",
      "display_name": "Python 3"
    },
    "language_info": {
      "name": "python"
    }
  },
  "cells": [
    {
      "cell_type": "markdown",
      "source": [
        "##1) 安裝套件（指定版本範圍＋用途註解）"
      ],
      "metadata": {
        "id": "yaFfzTaSCcDi"
      }
    },
    {
      "cell_type": "code",
      "execution_count": 1,
      "metadata": {
        "colab": {
          "base_uri": "https://localhost:8080/"
        },
        "id": "ddKZI2sgCLnZ",
        "outputId": "f0c07c0a-f850-41a4-9a97-eb318a61d780"
      },
      "outputs": [
        {
          "output_type": "stream",
          "name": "stdout",
          "text": [
            "Collecting line-bot-sdk<4.0.0,>=3.0.0\n",
            "  Downloading line_bot_sdk-3.19.1-py2.py3-none-any.whl.metadata (13 kB)\n",
            "Requirement already satisfied: requests<3,>=2.32.3 in /usr/local/lib/python3.12/dist-packages (from line-bot-sdk<4.0.0,>=3.0.0) (2.32.4)\n",
            "Requirement already satisfied: urllib3<3,>=2.0.5 in /usr/local/lib/python3.12/dist-packages (from line-bot-sdk<4.0.0,>=3.0.0) (2.5.0)\n",
            "Requirement already satisfied: aiohttp<4,>=3.10.9 in /usr/local/lib/python3.12/dist-packages (from line-bot-sdk<4.0.0,>=3.0.0) (3.12.15)\n",
            "Requirement already satisfied: future>=1.0.0 in /usr/local/lib/python3.12/dist-packages (from line-bot-sdk<4.0.0,>=3.0.0) (1.0.0)\n",
            "Requirement already satisfied: pydantic<3,>=2.0.3 in /usr/local/lib/python3.12/dist-packages (from line-bot-sdk<4.0.0,>=3.0.0) (2.11.9)\n",
            "Collecting aenum<4,>=3.1.11 (from line-bot-sdk<4.0.0,>=3.0.0)\n",
            "  Downloading aenum-3.1.16-py3-none-any.whl.metadata (3.8 kB)\n",
            "Requirement already satisfied: python_dateutil<3,>=2.5.3 in /usr/local/lib/python3.12/dist-packages (from line-bot-sdk<4.0.0,>=3.0.0) (2.9.0.post0)\n",
            "Collecting Deprecated>=1.2.18 (from line-bot-sdk<4.0.0,>=3.0.0)\n",
            "  Downloading Deprecated-1.2.18-py2.py3-none-any.whl.metadata (5.7 kB)\n",
            "Requirement already satisfied: aiohappyeyeballs>=2.5.0 in /usr/local/lib/python3.12/dist-packages (from aiohttp<4,>=3.10.9->line-bot-sdk<4.0.0,>=3.0.0) (2.6.1)\n",
            "Requirement already satisfied: aiosignal>=1.4.0 in /usr/local/lib/python3.12/dist-packages (from aiohttp<4,>=3.10.9->line-bot-sdk<4.0.0,>=3.0.0) (1.4.0)\n",
            "Requirement already satisfied: attrs>=17.3.0 in /usr/local/lib/python3.12/dist-packages (from aiohttp<4,>=3.10.9->line-bot-sdk<4.0.0,>=3.0.0) (25.3.0)\n",
            "Requirement already satisfied: frozenlist>=1.1.1 in /usr/local/lib/python3.12/dist-packages (from aiohttp<4,>=3.10.9->line-bot-sdk<4.0.0,>=3.0.0) (1.7.0)\n",
            "Requirement already satisfied: multidict<7.0,>=4.5 in /usr/local/lib/python3.12/dist-packages (from aiohttp<4,>=3.10.9->line-bot-sdk<4.0.0,>=3.0.0) (6.6.4)\n",
            "Requirement already satisfied: propcache>=0.2.0 in /usr/local/lib/python3.12/dist-packages (from aiohttp<4,>=3.10.9->line-bot-sdk<4.0.0,>=3.0.0) (0.3.2)\n",
            "Requirement already satisfied: yarl<2.0,>=1.17.0 in /usr/local/lib/python3.12/dist-packages (from aiohttp<4,>=3.10.9->line-bot-sdk<4.0.0,>=3.0.0) (1.20.1)\n",
            "Requirement already satisfied: wrapt<2,>=1.10 in /usr/local/lib/python3.12/dist-packages (from Deprecated>=1.2.18->line-bot-sdk<4.0.0,>=3.0.0) (1.17.3)\n",
            "Requirement already satisfied: annotated-types>=0.6.0 in /usr/local/lib/python3.12/dist-packages (from pydantic<3,>=2.0.3->line-bot-sdk<4.0.0,>=3.0.0) (0.7.0)\n",
            "Requirement already satisfied: pydantic-core==2.33.2 in /usr/local/lib/python3.12/dist-packages (from pydantic<3,>=2.0.3->line-bot-sdk<4.0.0,>=3.0.0) (2.33.2)\n",
            "Requirement already satisfied: typing-extensions>=4.12.2 in /usr/local/lib/python3.12/dist-packages (from pydantic<3,>=2.0.3->line-bot-sdk<4.0.0,>=3.0.0) (4.15.0)\n",
            "Requirement already satisfied: typing-inspection>=0.4.0 in /usr/local/lib/python3.12/dist-packages (from pydantic<3,>=2.0.3->line-bot-sdk<4.0.0,>=3.0.0) (0.4.1)\n",
            "Requirement already satisfied: six>=1.5 in /usr/local/lib/python3.12/dist-packages (from python_dateutil<3,>=2.5.3->line-bot-sdk<4.0.0,>=3.0.0) (1.17.0)\n",
            "Requirement already satisfied: charset_normalizer<4,>=2 in /usr/local/lib/python3.12/dist-packages (from requests<3,>=2.32.3->line-bot-sdk<4.0.0,>=3.0.0) (3.4.3)\n",
            "Requirement already satisfied: idna<4,>=2.5 in /usr/local/lib/python3.12/dist-packages (from requests<3,>=2.32.3->line-bot-sdk<4.0.0,>=3.0.0) (3.10)\n",
            "Requirement already satisfied: certifi>=2017.4.17 in /usr/local/lib/python3.12/dist-packages (from requests<3,>=2.32.3->line-bot-sdk<4.0.0,>=3.0.0) (2025.8.3)\n",
            "Downloading line_bot_sdk-3.19.1-py2.py3-none-any.whl (816 kB)\n",
            "\u001b[2K   \u001b[90m━━━━━━━━━━━━━━━━━━━━━━━━━━━━━━━━━━━━━━━━\u001b[0m \u001b[32m816.7/816.7 kB\u001b[0m \u001b[31m17.6 MB/s\u001b[0m eta \u001b[36m0:00:00\u001b[0m\n",
            "\u001b[?25hDownloading aenum-3.1.16-py3-none-any.whl (165 kB)\n",
            "\u001b[2K   \u001b[90m━━━━━━━━━━━━━━━━━━━━━━━━━━━━━━━━━━━━━━━━\u001b[0m \u001b[32m165.6/165.6 kB\u001b[0m \u001b[31m12.0 MB/s\u001b[0m eta \u001b[36m0:00:00\u001b[0m\n",
            "\u001b[?25hDownloading Deprecated-1.2.18-py2.py3-none-any.whl (10.0 kB)\n",
            "Installing collected packages: aenum, Deprecated, line-bot-sdk\n",
            "Successfully installed Deprecated-1.2.18 aenum-3.1.16 line-bot-sdk-3.19.1\n",
            "Requirement already satisfied: Flask<4.0.0,>=3.0.0 in /usr/local/lib/python3.12/dist-packages (3.1.2)\n",
            "Requirement already satisfied: blinker>=1.9.0 in /usr/local/lib/python3.12/dist-packages (from Flask<4.0.0,>=3.0.0) (1.9.0)\n",
            "Requirement already satisfied: click>=8.1.3 in /usr/local/lib/python3.12/dist-packages (from Flask<4.0.0,>=3.0.0) (8.2.1)\n",
            "Requirement already satisfied: itsdangerous>=2.2.0 in /usr/local/lib/python3.12/dist-packages (from Flask<4.0.0,>=3.0.0) (2.2.0)\n",
            "Requirement already satisfied: jinja2>=3.1.2 in /usr/local/lib/python3.12/dist-packages (from Flask<4.0.0,>=3.0.0) (3.1.6)\n",
            "Requirement already satisfied: markupsafe>=2.1.1 in /usr/local/lib/python3.12/dist-packages (from Flask<4.0.0,>=3.0.0) (3.0.2)\n",
            "Requirement already satisfied: werkzeug>=3.1.0 in /usr/local/lib/python3.12/dist-packages (from Flask<4.0.0,>=3.0.0) (3.1.3)\n",
            "Collecting pyngrok<8.0.0,>=7.0.0\n",
            "  Downloading pyngrok-7.4.0-py3-none-any.whl.metadata (8.1 kB)\n",
            "Requirement already satisfied: PyYAML>=5.1 in /usr/local/lib/python3.12/dist-packages (from pyngrok<8.0.0,>=7.0.0) (6.0.2)\n",
            "Downloading pyngrok-7.4.0-py3-none-any.whl (25 kB)\n",
            "Installing collected packages: pyngrok\n",
            "Successfully installed pyngrok-7.4.0\n"
          ]
        }
      ],
      "source": [
        "# 安裝 LINE Bot SDK v3（官方最新主線）\n",
        "!pip install \"line-bot-sdk>=3.0.0,<4.0.0\"\n",
        "\n",
        "# 安裝 Flask（Web 框架，提供 webhook 端點）\n",
        "!pip install \"Flask>=3.0.0,<4.0.0\"\n",
        "\n",
        "# 安裝 pyngrok（把本機/Colab 5000 port 映射成公開 HTTPS）\n",
        "!pip install \"pyngrok>=7.0.0,<8.0.0\""
      ]
    },
    {
      "cell_type": "markdown",
      "source": [
        "##2) 開 ngrok（先執行這一格拿到公開網址）"
      ],
      "metadata": {
        "id": "mDbxS7zdCgy_"
      }
    },
    {
      "cell_type": "code",
      "source": [
        "from pyngrok import ngrok\n",
        "\n",
        "# 換成你自己的 ngrok authtoken\n",
        "NGROK_AUTHTOKEN = \"2nh1S1yuCNhyHz7E9kibC5G9jfJ_5poDL8LVgJgfAm2a1ZJRc\"   # 例：2pEWt4...（不要公開在 GitHub）\n",
        "PORT = 5000\n",
        "\n",
        "# 設定金鑰\n",
        "ngrok.set_auth_token(NGROK_AUTHTOKEN)\n",
        "\n",
        "# 關閉舊隧道（避免重複）\n",
        "for t in ngrok.get_tunnels():\n",
        "    ngrok.disconnect(t.public_url)\n",
        "\n",
        "# 建立新隧道，取得公開 HTTPS 網址\n",
        "public_url = ngrok.connect(PORT, \"http\").public_url\n",
        "print(\"👉 外網網址：\", public_url)\n",
        "print(\"Webhook URL：\", public_url + \"/callback\")\n"
      ],
      "metadata": {
        "colab": {
          "base_uri": "https://localhost:8080/"
        },
        "id": "imnLNjM6CjPt",
        "outputId": "a2d3dbfc-99e4-474d-e8c5-89412509633b"
      },
      "execution_count": 2,
      "outputs": [
        {
          "output_type": "stream",
          "name": "stdout",
          "text": [
            "👉 外網網址： https://35e5049ea40e.ngrok-free.app\n",
            "Webhook URL： https://35e5049ea40e.ngrok-free.app/callback\n"
          ]
        }
      ]
    },
    {
      "cell_type": "markdown",
      "source": [
        "##3) LINE Bot Echo 程式（v3 SDK 正式寫法）"
      ],
      "metadata": {
        "id": "oPe7FwtzH-kY"
      }
    },
    {
      "cell_type": "code",
      "source": [
        "#從Line bot sdk pypl網站找到程式碼貼上\n",
        "#https://pypi.org/project/line-bot-sdk/\n",
        "from flask import Flask, request, abort\n",
        "\n",
        "from linebot.v3 import (\n",
        "    WebhookHandler\n",
        ")\n",
        "from linebot.v3.exceptions import (\n",
        "    InvalidSignatureError\n",
        ")\n",
        "from linebot.v3.messaging import (\n",
        "    Configuration,\n",
        "    ApiClient,\n",
        "    MessagingApi,\n",
        "    ReplyMessageRequest,\n",
        "    TextMessage\n",
        ")\n",
        "from linebot.v3.webhooks import (\n",
        "    MessageEvent,\n",
        "    TextMessageContent\n",
        ")\n",
        "\n",
        "app = Flask(__name__)\n",
        "\n",
        "configuration = Configuration(access_token='+Ri09o6iK7SXuNUaZEjWtlf9mZLp1xAt8NPXDVCN0shGvq1wvris4Oo29FZWdNqm7BW5a559L0klMfDltAo4qvsr1GI7OXMW2lW/mcZZYd2pwDpjrPQdxmKQ5W3vpYRC1VSq4rM84ksy+BybGREwygdB04t89/1O/w1cDnyilFU=')\n",
        "handler = WebhookHandler('4bc05bd9e903340338507195040bd2ff')\n",
        "\n",
        "\n",
        "@app.route(\"/callback\", methods=['POST'])\n",
        "def callback():\n",
        "    # get X-Line-Signature header value\n",
        "    signature = request.headers['X-Line-Signature']\n",
        "\n",
        "    # get request body as text\n",
        "    body = request.get_data(as_text=True)\n",
        "    app.logger.info(\"Request body: \" + body)\n",
        "\n",
        "    # handle webhook body\n",
        "    try:\n",
        "        handler.handle(body, signature)\n",
        "    except InvalidSignatureError:\n",
        "        app.logger.info(\"Invalid signature. Please check your channel access token/channel secret.\")\n",
        "        abort(400)\n",
        "\n",
        "    return 'OK'\n",
        "\n",
        "\n",
        "@handler.add(MessageEvent, message=TextMessageContent)\n",
        "def handle_message(event):\n",
        "    with ApiClient(configuration) as api_client:\n",
        "        line_bot_api = MessagingApi(api_client)\n",
        "        line_bot_api.reply_message_with_http_info(\n",
        "            ReplyMessageRequest(\n",
        "                reply_token=event.reply_token,\n",
        "                messages=[TextMessage(text=event.message.text)]\n",
        "            )\n",
        "        )\n",
        "\n",
        "if __name__ == \"__main__\":\n",
        "    app.run()"
      ],
      "metadata": {
        "colab": {
          "base_uri": "https://localhost:8080/"
        },
        "id": "pormo7OrM_Bv",
        "outputId": "b4f05df8-93c4-4379-c390-89744fb4317c"
      },
      "execution_count": 3,
      "outputs": [
        {
          "output_type": "stream",
          "name": "stdout",
          "text": [
            " * Serving Flask app '__main__'\n",
            " * Debug mode: off\n"
          ]
        },
        {
          "output_type": "stream",
          "name": "stderr",
          "text": [
            "INFO:werkzeug:\u001b[31m\u001b[1mWARNING: This is a development server. Do not use it in a production deployment. Use a production WSGI server instead.\u001b[0m\n",
            " * Running on http://127.0.0.1:5000\n",
            "INFO:werkzeug:\u001b[33mPress CTRL+C to quit\u001b[0m\n",
            "INFO:werkzeug:127.0.0.1 - - [29/Sep/2025 06:45:18] \"POST /callback HTTP/1.1\" 200 -\n",
            "INFO:werkzeug:127.0.0.1 - - [29/Sep/2025 06:47:40] \"POST /callback HTTP/1.1\" 200 -\n",
            "INFO:werkzeug:127.0.0.1 - - [29/Sep/2025 06:48:03] \"POST /callback HTTP/1.1\" 200 -\n",
            "WARNING:pyngrok.process.ngrok:t=2025-09-29T06:51:02+0000 lvl=warn msg=\"Stopping forwarder\" name=http-5000-9fcfc506-3fef-4b12-96d0-800261aa63b3 acceptErr=\"failed to accept connection: Listener closed\"\n"
          ]
        }
      ]
    }
  ]
}