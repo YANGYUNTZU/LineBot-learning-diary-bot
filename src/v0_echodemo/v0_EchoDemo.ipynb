{
  "nbformat": 4,
  "nbformat_minor": 0,
  "metadata": {
    "colab": {
      "provenance": []
    },
    "kernelspec": {
      "name": "python3",
      "display_name": "Python 3"
    },
    "language_info": {
      "name": "python"
    }
  },
  "cells": [
    {
      "cell_type": "markdown",
      "source": [
        "##1) 安裝套件（指定版本範圍＋用途註解）"
      ],
      "metadata": {
        "id": "6HcdRSuSaKmN"
      }
    },
    {
      "cell_type": "code",
      "execution_count": null,
      "metadata": {
        "id": "UrdlB3aeaDwG"
      },
      "outputs": [],
      "source": [
        "# 安裝 LINE Bot SDK v3（官方最新主線）\n",
        "!pip install \"line-bot-sdk>=3.0.0,<4.0.0\"\n",
        "\n",
        "# 安裝 Flask（Web 框架，提供 webhook 端點）\n",
        "!pip install \"Flask>=3.0.0,<4.0.0\"\n",
        "\n",
        "# 安裝 pyngrok（把本機/Colab 5000 port 映射成公開 HTTPS）\n",
        "!pip install \"pyngrok>=7.0.0,<8.0.0\""
      ]
    },
    {
      "cell_type": "markdown",
      "source": [
        "##2) 開 ngrok（先執行這一格拿到公開網址）"
      ],
      "metadata": {
        "id": "sN3joBc5aQp3"
      }
    },
    {
      "cell_type": "code",
      "source": [
        "from pyngrok import ngrok\n",
        "\n",
        "# 換成你自己的 ngrok authtoken\n",
        "NGROK_AUTHTOKEN = \"你的密碼\"   # 例：2pEWt4...（不要公開在 GitHub）\n",
        "PORT = 5000\n",
        "\n",
        "# 設定金鑰\n",
        "ngrok.set_auth_token(NGROK_AUTHTOKEN)\n",
        "\n",
        "# 關閉舊隧道（避免重複）\n",
        "for t in ngrok.get_tunnels():\n",
        "    ngrok.disconnect(t.public_url)\n",
        "\n",
        "# 建立新隧道，取得公開 HTTPS 網址\n",
        "public_url = ngrok.connect(PORT, \"http\").public_url\n",
        "\n",
        "print(\"👉 外網網址：\", public_url)\n",
        "print(\"Webhook URL：\", public_url + \"/callback\")"
      ],
      "metadata": {
        "id": "nHoJsipHaThb"
      },
      "execution_count": null,
      "outputs": []
    },
    {
      "cell_type": "markdown",
      "source": [
        "##3) LINE Bot Echo 程式（v3 SDK 正式寫法）"
      ],
      "metadata": {
        "id": "zUIqlTH-aX1b"
      }
    },
    {
      "cell_type": "code",
      "source": [
        "#從Line bot sdk pypl網站找到程式碼貼上\n",
        "#https://pypi.org/project/line-bot-sdk/\n",
        "from flask import Flask, request, abort\n",
        "\n",
        "from linebot.v3 import (\n",
        "    WebhookHandler\n",
        ")\n",
        "from linebot.v3.exceptions import (\n",
        "    InvalidSignatureError\n",
        ")\n",
        "from linebot.v3.messaging import (\n",
        "    Configuration,\n",
        "    ApiClient,\n",
        "    MessagingApi,\n",
        "    ReplyMessageRequest,\n",
        "    TextMessage\n",
        ")\n",
        "from linebot.v3.webhooks import (\n",
        "    MessageEvent,\n",
        "    TextMessageContent\n",
        ")\n",
        "\n",
        "app = Flask(__name__)\n",
        "\n",
        "configuration = Configuration(access_token='YOUR_CHANNEL_ACCESS_TOKEN')\n",
        "handler = WebhookHandler('YOUR_CHANNEL_SECRET')\n",
        "\n",
        "\n",
        "@app.route(\"/callback\", methods=['POST'])\n",
        "def callback():\n",
        "    # get X-Line-Signature header value\n",
        "    signature = request.headers['X-Line-Signature']\n",
        "\n",
        "    # get request body as text\n",
        "    body = request.get_data(as_text=True)\n",
        "    app.logger.info(\"Request body: \" + body)\n",
        "\n",
        "    # handle webhook body\n",
        "    try:\n",
        "        handler.handle(body, signature)\n",
        "    except InvalidSignatureError:\n",
        "        app.logger.info(\"Invalid signature. Please check your channel access token/channel secret.\")\n",
        "        abort(400)\n",
        "\n",
        "    return 'OK'\n",
        "\n",
        "\n",
        "@handler.add(MessageEvent, message=TextMessageContent)\n",
        "def handle_message(event):\n",
        "    with ApiClient(configuration) as api_client:\n",
        "        line_bot_api = MessagingApi(api_client)\n",
        "        line_bot_api.reply_message_with_http_info(\n",
        "            ReplyMessageRequest(\n",
        "                reply_token=event.reply_token,\n",
        "                messages=[TextMessage(text=event.message.text)]\n",
        "            )\n",
        "        )\n",
        "\n",
        "if __name__ == \"__main__\":\n",
        "    app.run()"
      ],
      "metadata": {
        "id": "_JdQKnbtaaXh"
      },
      "execution_count": null,
      "outputs": []
    }
  ]
}