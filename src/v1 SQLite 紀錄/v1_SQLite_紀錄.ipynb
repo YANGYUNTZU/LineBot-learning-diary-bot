{
  "nbformat": 4,
  "nbformat_minor": 0,
  "metadata": {
    "colab": {
      "provenance": []
    },
    "kernelspec": {
      "name": "python3",
      "display_name": "Python 3"
    },
    "language_info": {
      "name": "python"
    }
  },
  "cells": [
    {
      "cell_type": "markdown",
      "source": [
        "##掛載 Google Drive"
      ],
      "metadata": {
        "id": "vIeCgUKqlgGr"
      }
    },
    {
      "cell_type": "code",
      "source": [
        "from google.colab import drive\n",
        "drive.mount('/content/drive')"
      ],
      "metadata": {
        "id": "mRiSgAWtlekZ"
      },
      "execution_count": null,
      "outputs": []
    },
    {
      "cell_type": "markdown",
      "source": [
        "##加入專案路徑"
      ],
      "metadata": {
        "id": "KDtlHzq7loQz"
      }
    },
    {
      "cell_type": "code",
      "source": [
        "import os\n",
        "import sys\n",
        "from flask import Flask, request, abort\n",
        "\n",
        "# 🌟 0. 環境設定與診斷 (強制在匯入前執行) 🌟\n",
        "# 請確保 Cell 1: drive.mount('/content/drive') 已經成功運行\n",
        "\n",
        "PROJECT_PATH = '/content/drive/MyDrive/projects/LINE BOT'\n",
        "\n",
        "# 診斷：檢查檔案是否真的存在於 Python 視角下的路徑\n",
        "FILE_CHECK_NAME = 'v1_sqlite_dataseat.py'\n",
        "FILE_CHECK_PATH = os.path.join(PROJECT_PATH, FILE_CHECK_NAME)\n",
        "\n",
        "# --- 診斷邏輯 ---\n",
        "if os.path.exists(FILE_CHECK_PATH):\n",
        "    print(f\"✅ 診斷成功：文件 '{FILE_CHECK_NAME}' 存在於 {PROJECT_PATH}。\")\n",
        "    if PROJECT_PATH not in sys.path:\n",
        "        sys.path.append(PROJECT_PATH)\n",
        "        print(f\"✅ 已將路徑加入系統搜尋清單。\")\n",
        "else:\n",
        "    # 如果文件不存在，立即停止並報告錯誤\n",
        "    print(f\"❌ 診斷失敗：文件 '{FILE_CHECK_NAME}' 不存在於 {PROJECT_PATH}。\")\n",
        "    print(\"請仔細檢查 Google Drive 上的資料夾名稱是否有隱藏的空格或符號。\")\n",
        "    raise FileNotFoundError(\"路徑或檔案名稱錯誤，無法繼續。\")\n",
        "# --- 診斷結束 ---\n",
        "\n",
        "# 1. 導入您的資料庫函式 (現在路徑已設定，匯入應該成功)\n",
        "from v1_sqlite_dataseat import init_db, insert_log, close_db, get_user_log_count\n",
        "\n",
        "# ... (LINE Bot SDK 導入和 Flask 程式碼接在後面)\n",
        "# ...\n",
        "\n",
        "# (請確保 Flask/LINE Bot 程式碼是接在後面，而不是只有這段)"
      ],
      "metadata": {
        "id": "9Fl2L7b4llLb"
      },
      "execution_count": null,
      "outputs": []
    },
    {
      "cell_type": "markdown",
      "source": [
        "##1) 安裝套件（指定版本範圍＋用途註解）"
      ],
      "metadata": {
        "id": "6HcdRSuSaKmN"
      }
    },
    {
      "cell_type": "code",
      "execution_count": null,
      "metadata": {
        "id": "UrdlB3aeaDwG"
      },
      "outputs": [],
      "source": [
        "# 安裝 LINE Bot SDK v3（官方最新主線）\n",
        "!pip install \"line-bot-sdk>=3.0.0,<4.0.0\"\n",
        "\n",
        "# 安裝 Flask（Web 框架，提供 webhook 端點）\n",
        "!pip install \"Flask>=3.0.0,<4.0.0\"\n",
        "\n",
        "# 安裝 pyngrok（把本機/Colab 5000 port 映射成公開 HTTPS）\n",
        "!pip install \"pyngrok>=7.0.0,<8.0.0\""
      ]
    },
    {
      "cell_type": "markdown",
      "source": [
        "##2) 開 ngrok（先執行這一格拿到公開網址）"
      ],
      "metadata": {
        "id": "sN3joBc5aQp3"
      }
    },
    {
      "cell_type": "code",
      "source": [
        "from pyngrok import ngrok\n",
        "\n",
        "# 換成你自己的 ngrok authtoken\n",
        "NGROK_AUTHTOKEN = \"你的密碼\"   # 例：2pEWt4...（不要公開在 GitHub）\n",
        "PORT = 5000\n",
        "\n",
        "# 設定金鑰\n",
        "ngrok.set_auth_token(NGROK_AUTHTOKEN)\n",
        "\n",
        "# 關閉舊隧道（避免重複）\n",
        "for t in ngrok.get_tunnels():\n",
        "    ngrok.disconnect(t.public_url)\n",
        "\n",
        "# 建立新隧道，取得公開 HTTPS 網址\n",
        "public_url = ngrok.connect(PORT, \"http\").public_url\n",
        "\n",
        "print(\"👉 外網網址：\", public_url)\n",
        "print(\"Webhook URL：\", public_url + \"/callback\")"
      ],
      "metadata": {
        "id": "nHoJsipHaThb"
      },
      "execution_count": null,
      "outputs": []
    },
    {
      "cell_type": "markdown",
      "source": [
        "##3) LINE Bot 程式"
      ],
      "metadata": {
        "id": "zUIqlTH-aX1b"
      }
    },
    {
      "cell_type": "code",
      "source": [
        "#從Line bot sdk pypl網站找到程式碼貼上\n",
        "#https://pypi.org/project/line-bot-sdk/\n",
        "import os\n",
        "from flask import Flask, request, abort\n",
        "\n",
        "# 🌟 導入您的資料庫函式 (使用您確認的檔名)\n",
        "from v1_sqlite_dataseat import init_db, insert_log, close_db, get_user_log_count\n",
        "\n",
        "from linebot.v3 import (\n",
        "    WebhookHandler\n",
        ")\n",
        "from linebot.v3.exceptions import (\n",
        "    InvalidSignatureError\n",
        ")\n",
        "from linebot.v3.messaging import (\n",
        "    Configuration,\n",
        "    ApiClient,\n",
        "    MessagingApi,\n",
        "    ReplyMessageRequest,\n",
        "    TextMessage\n",
        ")\n",
        "from linebot.v3.webhooks import (\n",
        "    MessageEvent,\n",
        "    TextMessageContent\n",
        ")\n",
        "\n",
        "app = Flask(__name__)\n",
        "\n",
        "# 憑證設定：請替換成您的 LINE Bot 憑證\n",
        "CHANNEL_ACCESS_TOKEN = os.environ.get('LINE_ACCESS_TOKEN', 'YOUR_CHANNEL_ACCESS_TOKEN')\n",
        "CHANNEL_SECRET = os.environ.get('LINE_CHANNEL_SECRET', 'YOUR_CHANNEL_SECRET')\n",
        "\n",
        "configuration = Configuration(access_token=CHANNEL_ACCESS_TOKEN)\n",
        "handler = WebhookHandler(CHANNEL_SECRET)\n",
        "\n",
        "# 🌟 數據庫優化：註冊資料庫關閉函式 🌟\n",
        "# 確保每個請求結束後都會關閉連線，釋放資源\n",
        "app.teardown_appcontext(close_db)\n",
        "\n",
        "\n",
        "@app.route(\"/callback\", methods=['POST'])\n",
        "def callback():\n",
        "    signature = request.headers['X-Line-Signature']\n",
        "    body = request.get_data(as_text=True)\n",
        "    app.logger.info(\"Request body: \" + body)\n",
        "\n",
        "    try:\n",
        "        handler.handle(body, signature)\n",
        "    except InvalidSignatureError:\n",
        "        app.logger.info(\"Invalid signature. Please check your channel access token/channel secret.\")\n",
        "        abort(400)\n",
        "\n",
        "    return 'OK'\n",
        "\n",
        "\n",
        "@handler.add(MessageEvent, message=TextMessageContent)\n",
        "def handle_message(event):\n",
        "    \"\"\"\n",
        "    處理使用者傳送的文字訊息：\n",
        "    1. 儲存訊息到資料庫 (V1 核心)。\n",
        "    2. 回覆個人化的日記總數。\n",
        "    \"\"\"\n",
        "    user_id = event.source.user_id\n",
        "    user_diary = event.message.text\n",
        "\n",
        "    # 1. 🌟 儲存日記：將訊息寫入 Google Drive 上的 SQLite 資料庫\n",
        "    insert_log(user_id=user_id, raw_text=user_diary)\n",
        "\n",
        "    # 2. 查詢日記總數\n",
        "    total_logs = get_user_log_count(user_id)\n",
        "\n",
        "    # 3. 回覆使用者\n",
        "    reply_text = (\n",
        "        f\"📝 您的日記已成功收錄！\\n\"\n",
        "        f\"這是您寫下的第 {total_logs} 篇紀錄。\\n\"\n",
        "        f\"我們會溫柔地為您保管這份珍貴的回憶。\"\n",
        "    )\n",
        "\n",
        "    with ApiClient(configuration) as api_client:\n",
        "        line_bot_api = MessagingApi(api_client)\n",
        "        line_bot_api.reply_message_with_http_info(\n",
        "            ReplyMessageRequest(\n",
        "                reply_token=event.reply_token,\n",
        "                messages=[TextMessage(text=reply_text)]\n",
        "            )\n",
        "        )\n",
        "\n",
        "if __name__ == \"__main__\":\n",
        "    # 🌟 應用程式啟動前，先初始化資料庫 🌟\n",
        "    init_db()\n",
        "\n",
        "    # 運行 Flask 服務\n",
        "    app.run(port=5000)"
      ],
      "metadata": {
        "id": "_JdQKnbtaaXh"
      },
      "execution_count": null,
      "outputs": []
    }
  ]
}