{
  "nbformat": 4,
  "nbformat_minor": 0,
  "metadata": {
    "colab": {
      "provenance": []
    },
    "kernelspec": {
      "name": "python3",
      "display_name": "Python 3"
    },
    "language_info": {
      "name": "python"
    }
  },
  "cells": [
    {
      "cell_type": "markdown",
      "source": [
        "##掛載 Google Drive"
      ],
      "metadata": {
        "id": "vIeCgUKqlgGr"
      }
    },
    {
      "cell_type": "code",
      "source": [
        "from google.colab import drive\n",
        "drive.mount('/content/drive')"
      ],
      "metadata": {
        "colab": {
          "base_uri": "https://localhost:8080/"
        },
        "id": "mRiSgAWtlekZ",
        "outputId": "13188a5a-18a3-4371-f997-6c21793a7c0d"
      },
      "execution_count": 1,
      "outputs": [
        {
          "output_type": "stream",
          "name": "stdout",
          "text": [
            "Mounted at /content/drive\n"
          ]
        }
      ]
    },
    {
      "cell_type": "markdown",
      "source": [
        "##加入專案路徑"
      ],
      "metadata": {
        "id": "KDtlHzq7loQz"
      }
    },
    {
      "cell_type": "code",
      "source": [
        "import os\n",
        "import sys\n",
        "from flask import Flask, request, abort\n",
        "\n",
        "# 🌟 0. 環境設定與診斷 (強制在匯入前執行) 🌟\n",
        "# 請確保 Cell 1: drive.mount('/content/drive') 已經成功運行\n",
        "\n",
        "PROJECT_PATH = '/content/drive/MyDrive/projects/LINE BOT'\n",
        "\n",
        "# 診斷：檢查檔案是否真的存在於 Python 視角下的路徑\n",
        "FILE_CHECK_NAME = 'v1_sqlite_dataseat.py'\n",
        "FILE_CHECK_PATH = os.path.join(PROJECT_PATH, FILE_CHECK_NAME)\n",
        "\n",
        "# --- 診斷邏輯 ---\n",
        "if os.path.exists(FILE_CHECK_PATH):\n",
        "    print(f\"✅ 診斷成功：文件 '{FILE_CHECK_NAME}' 存在於 {PROJECT_PATH}。\")\n",
        "    if PROJECT_PATH not in sys.path:\n",
        "        sys.path.append(PROJECT_PATH)\n",
        "        print(f\"✅ 已將路徑加入系統搜尋清單。\")\n",
        "else:\n",
        "    # 如果文件不存在，立即停止並報告錯誤\n",
        "    print(f\"❌ 診斷失敗：文件 '{FILE_CHECK_NAME}' 不存在於 {PROJECT_PATH}。\")\n",
        "    print(\"請仔細檢查 Google Drive 上的資料夾名稱是否有隱藏的空格或符號。\")\n",
        "    raise FileNotFoundError(\"路徑或檔案名稱錯誤，無法繼續。\")\n",
        "# --- 診斷結束 ---\n",
        "\n",
        "# 1. 導入您的資料庫函式 (現在路徑已設定，匯入應該成功)\n",
        "from v1_sqlite_dataseat import init_db, insert_log, close_db, get_user_log_count\n",
        "\n",
        "# ... (LINE Bot SDK 導入和 Flask 程式碼接在後面)\n",
        "# ...\n",
        "\n",
        "# (請確保 Flask/LINE Bot 程式碼是接在後面，而不是只有這段)"
      ],
      "metadata": {
        "colab": {
          "base_uri": "https://localhost:8080/"
        },
        "id": "9Fl2L7b4llLb",
        "outputId": "f5372075-af53-4963-aadd-4d96a27f3a7a"
      },
      "execution_count": 2,
      "outputs": [
        {
          "output_type": "stream",
          "name": "stdout",
          "text": [
            "✅ 診斷成功：文件 'v1_sqlite_dataseat.py' 存在於 /content/drive/MyDrive/projects/LINE BOT。\n",
            "✅ 已將路徑加入系統搜尋清單。\n"
          ]
        }
      ]
    },
    {
      "cell_type": "markdown",
      "source": [
        "##1) 安裝套件（指定版本範圍＋用途註解）"
      ],
      "metadata": {
        "id": "6HcdRSuSaKmN"
      }
    },
    {
      "cell_type": "code",
      "execution_count": 3,
      "metadata": {
        "id": "UrdlB3aeaDwG",
        "colab": {
          "base_uri": "https://localhost:8080/"
        },
        "outputId": "5726fdc8-4150-4afc-ddd6-b537a611d32c"
      },
      "outputs": [
        {
          "output_type": "stream",
          "name": "stdout",
          "text": [
            "Collecting line-bot-sdk<4.0.0,>=3.0.0\n",
            "  Downloading line_bot_sdk-3.19.1-py2.py3-none-any.whl.metadata (13 kB)\n",
            "Requirement already satisfied: requests<3,>=2.32.3 in /usr/local/lib/python3.12/dist-packages (from line-bot-sdk<4.0.0,>=3.0.0) (2.32.4)\n",
            "Requirement already satisfied: urllib3<3,>=2.0.5 in /usr/local/lib/python3.12/dist-packages (from line-bot-sdk<4.0.0,>=3.0.0) (2.5.0)\n",
            "Requirement already satisfied: aiohttp<4,>=3.10.9 in /usr/local/lib/python3.12/dist-packages (from line-bot-sdk<4.0.0,>=3.0.0) (3.12.15)\n",
            "Requirement already satisfied: future>=1.0.0 in /usr/local/lib/python3.12/dist-packages (from line-bot-sdk<4.0.0,>=3.0.0) (1.0.0)\n",
            "Requirement already satisfied: pydantic<3,>=2.0.3 in /usr/local/lib/python3.12/dist-packages (from line-bot-sdk<4.0.0,>=3.0.0) (2.11.9)\n",
            "Collecting aenum<4,>=3.1.11 (from line-bot-sdk<4.0.0,>=3.0.0)\n",
            "  Downloading aenum-3.1.16-py3-none-any.whl.metadata (3.8 kB)\n",
            "Requirement already satisfied: python_dateutil<3,>=2.5.3 in /usr/local/lib/python3.12/dist-packages (from line-bot-sdk<4.0.0,>=3.0.0) (2.9.0.post0)\n",
            "Collecting Deprecated>=1.2.18 (from line-bot-sdk<4.0.0,>=3.0.0)\n",
            "  Downloading Deprecated-1.2.18-py2.py3-none-any.whl.metadata (5.7 kB)\n",
            "Requirement already satisfied: aiohappyeyeballs>=2.5.0 in /usr/local/lib/python3.12/dist-packages (from aiohttp<4,>=3.10.9->line-bot-sdk<4.0.0,>=3.0.0) (2.6.1)\n",
            "Requirement already satisfied: aiosignal>=1.4.0 in /usr/local/lib/python3.12/dist-packages (from aiohttp<4,>=3.10.9->line-bot-sdk<4.0.0,>=3.0.0) (1.4.0)\n",
            "Requirement already satisfied: attrs>=17.3.0 in /usr/local/lib/python3.12/dist-packages (from aiohttp<4,>=3.10.9->line-bot-sdk<4.0.0,>=3.0.0) (25.3.0)\n",
            "Requirement already satisfied: frozenlist>=1.1.1 in /usr/local/lib/python3.12/dist-packages (from aiohttp<4,>=3.10.9->line-bot-sdk<4.0.0,>=3.0.0) (1.7.0)\n",
            "Requirement already satisfied: multidict<7.0,>=4.5 in /usr/local/lib/python3.12/dist-packages (from aiohttp<4,>=3.10.9->line-bot-sdk<4.0.0,>=3.0.0) (6.6.4)\n",
            "Requirement already satisfied: propcache>=0.2.0 in /usr/local/lib/python3.12/dist-packages (from aiohttp<4,>=3.10.9->line-bot-sdk<4.0.0,>=3.0.0) (0.3.2)\n",
            "Requirement already satisfied: yarl<2.0,>=1.17.0 in /usr/local/lib/python3.12/dist-packages (from aiohttp<4,>=3.10.9->line-bot-sdk<4.0.0,>=3.0.0) (1.20.1)\n",
            "Requirement already satisfied: wrapt<2,>=1.10 in /usr/local/lib/python3.12/dist-packages (from Deprecated>=1.2.18->line-bot-sdk<4.0.0,>=3.0.0) (1.17.3)\n",
            "Requirement already satisfied: annotated-types>=0.6.0 in /usr/local/lib/python3.12/dist-packages (from pydantic<3,>=2.0.3->line-bot-sdk<4.0.0,>=3.0.0) (0.7.0)\n",
            "Requirement already satisfied: pydantic-core==2.33.2 in /usr/local/lib/python3.12/dist-packages (from pydantic<3,>=2.0.3->line-bot-sdk<4.0.0,>=3.0.0) (2.33.2)\n",
            "Requirement already satisfied: typing-extensions>=4.12.2 in /usr/local/lib/python3.12/dist-packages (from pydantic<3,>=2.0.3->line-bot-sdk<4.0.0,>=3.0.0) (4.15.0)\n",
            "Requirement already satisfied: typing-inspection>=0.4.0 in /usr/local/lib/python3.12/dist-packages (from pydantic<3,>=2.0.3->line-bot-sdk<4.0.0,>=3.0.0) (0.4.1)\n",
            "Requirement already satisfied: six>=1.5 in /usr/local/lib/python3.12/dist-packages (from python_dateutil<3,>=2.5.3->line-bot-sdk<4.0.0,>=3.0.0) (1.17.0)\n",
            "Requirement already satisfied: charset_normalizer<4,>=2 in /usr/local/lib/python3.12/dist-packages (from requests<3,>=2.32.3->line-bot-sdk<4.0.0,>=3.0.0) (3.4.3)\n",
            "Requirement already satisfied: idna<4,>=2.5 in /usr/local/lib/python3.12/dist-packages (from requests<3,>=2.32.3->line-bot-sdk<4.0.0,>=3.0.0) (3.10)\n",
            "Requirement already satisfied: certifi>=2017.4.17 in /usr/local/lib/python3.12/dist-packages (from requests<3,>=2.32.3->line-bot-sdk<4.0.0,>=3.0.0) (2025.8.3)\n",
            "Downloading line_bot_sdk-3.19.1-py2.py3-none-any.whl (816 kB)\n",
            "\u001b[2K   \u001b[90m━━━━━━━━━━━━━━━━━━━━━━━━━━━━━━━━━━━━━━━━\u001b[0m \u001b[32m816.7/816.7 kB\u001b[0m \u001b[31m32.7 MB/s\u001b[0m eta \u001b[36m0:00:00\u001b[0m\n",
            "\u001b[?25hDownloading aenum-3.1.16-py3-none-any.whl (165 kB)\n",
            "\u001b[2K   \u001b[90m━━━━━━━━━━━━━━━━━━━━━━━━━━━━━━━━━━━━━━━━\u001b[0m \u001b[32m165.6/165.6 kB\u001b[0m \u001b[31m14.8 MB/s\u001b[0m eta \u001b[36m0:00:00\u001b[0m\n",
            "\u001b[?25hDownloading Deprecated-1.2.18-py2.py3-none-any.whl (10.0 kB)\n",
            "Installing collected packages: aenum, Deprecated, line-bot-sdk\n",
            "Successfully installed Deprecated-1.2.18 aenum-3.1.16 line-bot-sdk-3.19.1\n",
            "Requirement already satisfied: Flask<4.0.0,>=3.0.0 in /usr/local/lib/python3.12/dist-packages (3.1.2)\n",
            "Requirement already satisfied: blinker>=1.9.0 in /usr/local/lib/python3.12/dist-packages (from Flask<4.0.0,>=3.0.0) (1.9.0)\n",
            "Requirement already satisfied: click>=8.1.3 in /usr/local/lib/python3.12/dist-packages (from Flask<4.0.0,>=3.0.0) (8.2.1)\n",
            "Requirement already satisfied: itsdangerous>=2.2.0 in /usr/local/lib/python3.12/dist-packages (from Flask<4.0.0,>=3.0.0) (2.2.0)\n",
            "Requirement already satisfied: jinja2>=3.1.2 in /usr/local/lib/python3.12/dist-packages (from Flask<4.0.0,>=3.0.0) (3.1.6)\n",
            "Requirement already satisfied: markupsafe>=2.1.1 in /usr/local/lib/python3.12/dist-packages (from Flask<4.0.0,>=3.0.0) (3.0.2)\n",
            "Requirement already satisfied: werkzeug>=3.1.0 in /usr/local/lib/python3.12/dist-packages (from Flask<4.0.0,>=3.0.0) (3.1.3)\n",
            "Collecting pyngrok<8.0.0,>=7.0.0\n",
            "  Downloading pyngrok-7.4.0-py3-none-any.whl.metadata (8.1 kB)\n",
            "Requirement already satisfied: PyYAML>=5.1 in /usr/local/lib/python3.12/dist-packages (from pyngrok<8.0.0,>=7.0.0) (6.0.2)\n",
            "Downloading pyngrok-7.4.0-py3-none-any.whl (25 kB)\n",
            "Installing collected packages: pyngrok\n",
            "Successfully installed pyngrok-7.4.0\n"
          ]
        }
      ],
      "source": [
        "# 安裝 LINE Bot SDK v3（官方最新主線）\n",
        "!pip install \"line-bot-sdk>=3.0.0,<4.0.0\"\n",
        "\n",
        "# 安裝 Flask（Web 框架，提供 webhook 端點）\n",
        "!pip install \"Flask>=3.0.0,<4.0.0\"\n",
        "\n",
        "# 安裝 pyngrok（把本機/Colab 5000 port 映射成公開 HTTPS）\n",
        "!pip install \"pyngrok>=7.0.0,<8.0.0\""
      ]
    },
    {
      "cell_type": "markdown",
      "source": [
        "##2) 開 ngrok（先執行這一格拿到公開網址）"
      ],
      "metadata": {
        "id": "sN3joBc5aQp3"
      }
    },
    {
      "cell_type": "code",
      "source": [
        "from pyngrok import ngrok\n",
        "\n",
        "# 換成你自己的 ngrok authtoken\n",
        "NGROK_AUTHTOKEN = \"2nh1S1yuCNhyHz7E9kibC5G9jfJ_5poDL8LVgJgfAm2a1ZJRc\"   # 例：2pEWt4...（不要公開在 GitHub）\n",
        "PORT = 5000\n",
        "\n",
        "# 設定金鑰\n",
        "ngrok.set_auth_token(NGROK_AUTHTOKEN)\n",
        "\n",
        "# 關閉舊隧道（避免重複）\n",
        "for t in ngrok.get_tunnels():\n",
        "    ngrok.disconnect(t.public_url)\n",
        "\n",
        "# 建立新隧道，取得公開 HTTPS 網址\n",
        "public_url = ngrok.connect(PORT, \"http\").public_url\n",
        "\n",
        "print(\"👉 外網網址：\", public_url)\n",
        "print(\"Webhook URL：\", public_url + \"/callback\")"
      ],
      "metadata": {
        "id": "nHoJsipHaThb",
        "colab": {
          "base_uri": "https://localhost:8080/"
        },
        "outputId": "855dbf70-3efc-4d60-8578-a6171e02ca55"
      },
      "execution_count": 7,
      "outputs": [
        {
          "output_type": "stream",
          "name": "stdout",
          "text": [
            "👉 外網網址： https://af37cb52ff6f.ngrok-free.app\n",
            "Webhook URL： https://af37cb52ff6f.ngrok-free.app/callback\n"
          ]
        }
      ]
    },
    {
      "cell_type": "markdown",
      "source": [
        "##3) LINE Bot Echo 程式（v3 SDK 正式寫法）"
      ],
      "metadata": {
        "id": "zUIqlTH-aX1b"
      }
    },
    {
      "cell_type": "code",
      "source": [
        "#從Line bot sdk pypl網站找到程式碼貼上\n",
        "#https://pypi.org/project/line-bot-sdk/\n",
        "import os\n",
        "from flask import Flask, request, abort\n",
        "\n",
        "# 🌟 導入您的資料庫函式 (使用您確認的檔名)\n",
        "from v1_sqlite_dataseat import init_db, insert_log, close_db, get_user_log_count\n",
        "\n",
        "from linebot.v3 import (\n",
        "    WebhookHandler\n",
        ")\n",
        "from linebot.v3.exceptions import (\n",
        "    InvalidSignatureError\n",
        ")\n",
        "from linebot.v3.messaging import (\n",
        "    Configuration,\n",
        "    ApiClient,\n",
        "    MessagingApi,\n",
        "    ReplyMessageRequest,\n",
        "    TextMessage\n",
        ")\n",
        "from linebot.v3.webhooks import (\n",
        "    MessageEvent,\n",
        "    TextMessageContent\n",
        ")\n",
        "\n",
        "app = Flask(__name__)\n",
        "\n",
        "# 憑證設定：請替換成您的 LINE Bot 憑證\n",
        "CHANNEL_ACCESS_TOKEN = os.environ.get('LINE_ACCESS_TOKEN', '+Ri09o6iK7SXuNUaZEjWtlf9mZLp1xAt8NPXDVCN0shGvq1wvris4Oo29FZWdNqm7BW5a559L0klMfDltAo4qvsr1GI7OXMW2lW/mcZZYd2pwDpjrPQdxmKQ5W3vpYRC1VSq4rM84ksy+BybGREwygdB04t89/1O/w1cDnyilFU=')\n",
        "CHANNEL_SECRET = os.environ.get('LINE_CHANNEL_SECRET', '4bc05bd9e903340338507195040bd2ff')\n",
        "\n",
        "configuration = Configuration(access_token=CHANNEL_ACCESS_TOKEN)\n",
        "handler = WebhookHandler(CHANNEL_SECRET)\n",
        "\n",
        "# 🌟 數據庫優化：註冊資料庫關閉函式 🌟\n",
        "# 確保每個請求結束後都會關閉連線，釋放資源\n",
        "app.teardown_appcontext(close_db)\n",
        "\n",
        "\n",
        "@app.route(\"/callback\", methods=['POST'])\n",
        "def callback():\n",
        "    signature = request.headers['X-Line-Signature']\n",
        "    body = request.get_data(as_text=True)\n",
        "    app.logger.info(\"Request body: \" + body)\n",
        "\n",
        "    try:\n",
        "        handler.handle(body, signature)\n",
        "    except InvalidSignatureError:\n",
        "        app.logger.info(\"Invalid signature. Please check your channel access token/channel secret.\")\n",
        "        abort(400)\n",
        "\n",
        "    return 'OK'\n",
        "\n",
        "\n",
        "@handler.add(MessageEvent, message=TextMessageContent)\n",
        "def handle_message(event):\n",
        "    \"\"\"\n",
        "    處理使用者傳送的文字訊息：\n",
        "    1. 儲存訊息到資料庫 (V1 核心)。\n",
        "    2. 回覆個人化的日記總數。\n",
        "    \"\"\"\n",
        "    user_id = event.source.user_id\n",
        "    user_diary = event.message.text\n",
        "\n",
        "    # 1. 🌟 儲存日記：將訊息寫入 Google Drive 上的 SQLite 資料庫\n",
        "    insert_log(user_id=user_id, raw_text=user_diary)\n",
        "\n",
        "    # 2. 查詢日記總數\n",
        "    total_logs = get_user_log_count(user_id)\n",
        "\n",
        "    # 3. 回覆使用者\n",
        "    reply_text = (\n",
        "        f\"📝 您的日記已成功收錄！\\n\"\n",
        "        f\"這是您寫下的第 {total_logs} 篇紀錄。\\n\"\n",
        "        f\"我們會溫柔地為您保管這份珍貴的回憶。\"\n",
        "    )\n",
        "\n",
        "    with ApiClient(configuration) as api_client:\n",
        "        line_bot_api = MessagingApi(api_client)\n",
        "        line_bot_api.reply_message_with_http_info(\n",
        "            ReplyMessageRequest(\n",
        "                reply_token=event.reply_token,\n",
        "                messages=[TextMessage(text=reply_text)]\n",
        "            )\n",
        "        )\n",
        "\n",
        "if __name__ == \"__main__\":\n",
        "    # 🌟 應用程式啟動前，先初始化資料庫 🌟\n",
        "    init_db()\n",
        "\n",
        "    # 運行 Flask 服務\n",
        "    app.run(port=5000)"
      ],
      "metadata": {
        "id": "_JdQKnbtaaXh",
        "colab": {
          "base_uri": "https://localhost:8080/"
        },
        "outputId": "5f4d4d22-464f-4781-ea56-e73508cd29b8"
      },
      "execution_count": 8,
      "outputs": [
        {
          "output_type": "stream",
          "name": "stdout",
          "text": [
            "✅ 資料庫 /content/drive/MyDrive/projects/LineBot_Data/emotion_diary.db 初始化完成，資料將永久儲存在 Google Drive 上。\n",
            " * Serving Flask app '__main__'\n",
            " * Debug mode: off\n"
          ]
        },
        {
          "output_type": "stream",
          "name": "stderr",
          "text": [
            "INFO:werkzeug:\u001b[31m\u001b[1mWARNING: This is a development server. Do not use it in a production deployment. Use a production WSGI server instead.\u001b[0m\n",
            " * Running on http://127.0.0.1:5000\n",
            "INFO:werkzeug:\u001b[33mPress CTRL+C to quit\u001b[0m\n",
            "INFO:werkzeug:127.0.0.1 - - [01/Oct/2025 02:49:20] \"POST /callback HTTP/1.1\" 200 -\n",
            "INFO:werkzeug:127.0.0.1 - - [01/Oct/2025 02:49:32] \"POST /callback HTTP/1.1\" 200 -\n",
            "WARNING:pyngrok.process.ngrok:t=2025-10-01T02:49:47+0000 lvl=warn msg=\"Stopping forwarder\" name=http-5000-1ff986b7-20a8-450f-9604-311aa1364f7b acceptErr=\"failed to accept connection: Listener closed\"\n"
          ]
        }
      ]
    }
  ]
}